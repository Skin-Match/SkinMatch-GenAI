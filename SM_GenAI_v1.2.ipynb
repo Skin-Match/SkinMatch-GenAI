{
  "cells": [
    {
      "cell_type": "markdown",
      "id": "vlNCxJO3jHcqPOZwYHSEu1fK",
      "metadata": {
        "tags": [],
        "id": "vlNCxJO3jHcqPOZwYHSEu1fK"
      },
      "source": [
        "1. Install the Vertex AI SDK: Open a terminal window and enter the command below. You can also [install it in a virtualenv](https://googleapis.dev/python/aiplatform/latest/index.html)"
      ]
    },
    {
      "cell_type": "code",
      "id": "8lpD2hvDOVFl8v2w2D7KMTXM",
      "metadata": {
        "tags": [],
        "id": "8lpD2hvDOVFl8v2w2D7KMTXM"
      },
      "source": [
        "!pip install --upgrade google-cloud-aiplatform"
      ],
      "execution_count": null,
      "outputs": []
    },
    {
      "cell_type": "markdown",
      "id": "6oucM6uVg3c897lnlAFtsbxJ",
      "metadata": {
        "tags": [],
        "id": "6oucM6uVg3c897lnlAFtsbxJ"
      },
      "source": [
        "2. Use the following code in your application to request a model response"
      ]
    },
    {
      "cell_type": "code",
      "id": "zsI4GyQnCCMjXATOs5eC0bHK",
      "metadata": {
        "tags": [],
        "id": "zsI4GyQnCCMjXATOs5eC0bHK",
        "colab": {
          "base_uri": "https://localhost:8080/"
        },
        "executionInfo": {
          "status": "ok",
          "timestamp": 1717767890394,
          "user_tz": -420,
          "elapsed": 37002,
          "user": {
            "displayName": "",
            "userId": ""
          }
        },
        "outputId": "72572696-1739-4210-821d-13d5747444d6"
      },
      "source": [
        "import base64\n",
        "import vertexai\n",
        "from vertexai.generative_models import GenerativeModel\n",
        "import vertexai.preview.generative_models as generative_models\n",
        "\n",
        "def generate(skin_type, skin_concerns, current_skincare):\n",
        "    # Inisialisasi Vertex AI dengan proyek dan lokasi yang sesuai\n",
        "    vertexai.init(project=\"submissionmlgc-wangi\", location=\"us-central1\")\n",
        "\n",
        "    # Inisialisasi model generatif\n",
        "    model = GenerativeModel(\n",
        "        \"gemini-1.5-flash-001\",\n",
        "    )\n",
        "\n",
        "    # Konfigurasi generasi teks\n",
        "    generation_config = {\n",
        "        \"max_output_tokens\": 8192,\n",
        "        \"temperature\": 0.1,\n",
        "        \"top_p\": 0.95,\n",
        "    }\n",
        "\n",
        "    # Pengaturan keamanan\n",
        "    safety_settings = {\n",
        "        generative_models.HarmCategory.HARM_CATEGORY_HATE_SPEECH: generative_models.HarmBlockThreshold.BLOCK_MEDIUM_AND_ABOVE,\n",
        "        generative_models.HarmCategory.HARM_CATEGORY_DANGEROUS_CONTENT: generative_models.HarmBlockThreshold.BLOCK_MEDIUM_AND_ABOVE,\n",
        "        generative_models.HarmCategory.HARM_CATEGORY_SEXUALLY_EXPLICIT: generative_models.HarmBlockThreshold.BLOCK_MEDIUM_AND_ABOVE,\n",
        "        generative_models.HarmCategory.HARM_CATEGORY_HARASSMENT: generative_models.HarmBlockThreshold.BLOCK_MEDIUM_AND_ABOVE,\n",
        "    }\n",
        "\n",
        "    # Membuat prompt berdasarkan input pengguna\n",
        "    text1 = f\"\"\"You are a beauty consultant. Given user skin type, please give recommendation about their skincare routine, what should they do and what shouldn't\n",
        "    {{\n",
        "    skin type: {skin_type},\n",
        "    skin concerns: {skin_concerns},\n",
        "    current skincare: {current_skincare};\n",
        "    }}\"\"\"\n",
        "\n",
        "    # Memanggil model untuk menghasilkan konten\n",
        "    responses = model.generate_content(\n",
        "        [text1],\n",
        "        generation_config=generation_config,\n",
        "        safety_settings=safety_settings,\n",
        "        stream=True,\n",
        "    )\n",
        "\n",
        "    # Menangani dan mencetak respons dari model\n",
        "    for response in responses:\n",
        "        print(response.text, end=\"\")\n",
        "\n",
        "# Mengambil input dari pengguna\n",
        "skin_type = input(\"Enter skin type: \")\n",
        "skin_concerns = input(\"Enter skin concerns: \")\n",
        "current_skincare = input(\"Enter current skincare routine (comma-separated): \")\n",
        "\n",
        "# Memanggil fungsi generate dengan input pengguna\n",
        "generate(skin_type, skin_concerns, current_skincare)"
      ],
      "execution_count": 2,
      "outputs": [
        {
          "output_type": "stream",
          "name": "stdout",
          "text": [
            "Enter skin type: oil\n",
            "Enter skin concerns: acne\n",
            "Enter current skincare routine (comma-separated): sunscreen, moisturizer\n",
            "## Skincare Routine for Oily Skin with Acne:\n",
            "\n",
            "**Congratulations on taking the first step towards clearer skin!** Oily skin with acne can be tricky, but with the right routine, you can achieve a healthy glow. Here's a personalized plan for you:\n",
            "\n",
            "**Morning:**\n",
            "\n",
            "* **Cleanse:** Start with a gentle, oil-free cleanser. Look for ingredients like salicylic acid or benzoyl peroxide to help fight acne. Avoid harsh soaps or scrubs that can irritate your skin.\n",
            "* **Toner:** Consider a toner with witch hazel or glycolic acid to help control oil production and refine pores.\n",
            "* **Serum:**  A serum with niacinamide or hyaluronic acid can help regulate oil production and hydrate your skin.\n",
            "* **Moisturizer:** Opt for a lightweight, oil-free moisturizer with SPF 30 or higher. \n",
            "* **Sunscreen:**  Apply a broad-spectrum sunscreen with SPF 30 or higher every day, even on cloudy days.\n",
            "\n",
            "**Evening:**\n",
            "\n",
            "* **Double Cleanse:**  Start with an oil-based cleanser to remove makeup and impurities, followed by a water-based cleanser to thoroughly clean your skin.\n",
            "* **Exfoliate:**  Use a gentle chemical exfoliant with salicylic acid or glycolic acid 2-3 times a week to remove dead skin cells and prevent clogged pores. Avoid physical scrubs as they can irritate your skin.\n",
            "* **Spot Treatment:** Apply a spot treatment with benzoyl peroxide or salicylic acid to individual pimples.\n",
            "* **Moisturizer:**  Use a lightweight, oil-free moisturizer.\n",
            "* **Mask:**  Consider using a clay mask 1-2 times a week to absorb excess oil and impurities.\n",
            "\n",
            "**What to Avoid:**\n",
            "\n",
            "* **Heavy moisturizers:**  These can clog pores and worsen acne.\n",
            "* **Comedogenic ingredients:**  These ingredients can clog pores and lead to breakouts. Look for products labeled \"non-comedogenic.\"\n",
            "* **Harsh scrubs:**  These can irritate your skin and make acne worse.\n",
            "* **Over-exfoliating:**  Exfoliating too often can damage your skin's barrier and make it more susceptible to breakouts.\n",
            "* **Picking or squeezing pimples:**  This can lead to scarring and infection.\n",
            "\n",
            "**Additional Tips:**\n",
            "\n",
            "* **Drink plenty of water:**  Hydration is essential for healthy skin.\n",
            "* **Eat a healthy diet:**  Avoid processed foods, sugary drinks, and dairy products, which can contribute to acne.\n",
            "* **Manage stress:**  Stress can trigger acne breakouts. Find healthy ways to manage stress, such as exercise, meditation, or spending time in nature.\n",
            "* **Be patient:**  It takes time to see results from a new skincare routine. Don't get discouraged if you don't see immediate improvement.\n",
            "\n",
            "**Remember:** This is a general guideline. It's always best to consult with a dermatologist for personalized advice and treatment options. \n"
          ]
        }
      ]
    }
  ],
  "metadata": {
    "kernelspec": {
      "display_name": "Python 3",
      "language": "python",
      "name": "python3"
    },
    "language_info": {
      "codemirror_mode": {
        "name": "ipython",
        "version": 3
      },
      "file_extension": ".py",
      "mimetype": "text/x-python",
      "name": "python",
      "nbconvert_exporter": "python",
      "pygments_lexer": "ipython3",
      "version": "3.10.10"
    },
    "colab": {
      "provenance": [],
      "name": "Untitled prompt Jun 7, 2024, 8:31:37 PM"
    }
  },
  "nbformat": 4,
  "nbformat_minor": 5
}